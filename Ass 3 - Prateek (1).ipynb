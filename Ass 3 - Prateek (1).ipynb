{
 "cells": [
  {
   "cell_type": "markdown",
   "id": "55261ae4",
   "metadata": {},
   "source": [
    "### 5 Write a python program to print or generate multiplication table of number 1 to 10 .\n"
   ]
  },
  {
   "cell_type": "code",
   "execution_count": 3,
   "id": "e82e6db4",
   "metadata": {},
   "outputs": [
    {
     "name": "stdout",
     "output_type": "stream",
     "text": [
      "Entered digit: 8\n",
      "8 x 0 = 0\n",
      "8 x 1 = 8\n",
      "8 x 2 = 16\n",
      "8 x 3 = 24\n",
      "8 x 4 = 32\n",
      "8 x 5 = 40\n",
      "8 x 6 = 48\n",
      "8 x 7 = 56\n",
      "8 x 8 = 64\n",
      "8 x 9 = 72\n",
      "8 x 10 = 80\n"
     ]
    }
   ],
   "source": [
    "i = 0\n",
    "n = int(input(\"Entered digit: \"))\n",
    "while i<11:\n",
    "    print(n, \"x\", i,\"=\" ,int(n*i))\n",
    "    i += 1"
   ]
  },
  {
   "cell_type": "markdown",
   "id": "07a3087a",
   "metadata": {},
   "source": [
    "## 1. Python program to create a list of tuples from given list having number and its cube in each tuple"
   ]
  },
  {
   "cell_type": "code",
   "execution_count": 4,
   "id": "9b37555b",
   "metadata": {},
   "outputs": [
    {
     "name": "stdout",
     "output_type": "stream",
     "text": [
      "[(1, 1), (2, 8), (3, 27)]\n"
     ]
    }
   ],
   "source": [
    "ls=[1,2,3]\n",
    "ls2=[]\n",
    "for i in ls:\n",
    "    Tuple= (i,(i**3))\n",
    "    ls2.append(Tuple)\n",
    "print(ls2)\n"
   ]
  },
  {
   "cell_type": "markdown",
   "id": "e0fcb6b9",
   "metadata": {},
   "source": [
    "## 7. Create a Python function to Check Validity of Triangle Given Three Sides."
   ]
  },
  {
   "cell_type": "code",
   "execution_count": 7,
   "id": "ef7604d1",
   "metadata": {},
   "outputs": [
    {
     "name": "stdout",
     "output_type": "stream",
     "text": [
      "Enter 1st side length: 5\n",
      "Enter 2nd side length: 7\n",
      "Enter 3rd side length: 9\n"
     ]
    },
    {
     "data": {
      "text/plain": [
       "'Triangle can be formed'"
      ]
     },
     "execution_count": 7,
     "metadata": {},
     "output_type": "execute_result"
    }
   ],
   "source": [
    "def Triangle(x,y,z):\n",
    "    if x+y>=z and y+z>=x and z+x>=y:\n",
    "        return \"Triangle can be formed\"\n",
    "    else:\n",
    "        return \"Triangle cannot be formed\"\n",
    "\n",
    "x = float(input('Enter 1st side length: '))\n",
    "y = float(input('Enter 2nd side length: '))\n",
    "z = float(input('Enter 3rd side length: '))\n",
    "\n",
    "Triangle(x,y,z)"
   ]
  },
  {
   "cell_type": "markdown",
   "id": "07018826",
   "metadata": {},
   "source": [
    "## 9. Write a program to print the following start pattern using the loop, take n as input for printing n no. of lines"
   ]
  },
  {
   "cell_type": "code",
   "execution_count": 9,
   "id": "da7a72bd",
   "metadata": {},
   "outputs": [
    {
     "name": "stdout",
     "output_type": "stream",
     "text": [
      "Enter the number of rows to print * pattern7\n",
      "*\n",
      "**\n",
      "***\n",
      "****\n",
      "*****\n",
      "******\n",
      "*******\n"
     ]
    }
   ],
   "source": [
    "n = int(input(\"Enter the number of rows to print * pattern\"))    \n",
    "for i in range(0, n):  \n",
    " \n",
    "        for j in range(0, i + 1):  \n",
    " \n",
    "            print(\"*\", end=\"\")       \n",
    "  \n",
    "        print() "
   ]
  },
  {
   "cell_type": "markdown",
   "id": "21a60e13",
   "metadata": {},
   "source": [
    "## 10. Write a program to print the following number pattern using a loop."
   ]
  },
  {
   "cell_type": "code",
   "execution_count": 10,
   "id": "d2a936ab",
   "metadata": {},
   "outputs": [
    {
     "name": "stdout",
     "output_type": "stream",
     "text": [
      "enter the numbers of rows6\n",
      "1 \n",
      "1 2 \n",
      "1 2 3 \n",
      "1 2 3 4 \n",
      "1 2 3 4 5 \n",
      "1 2 3 4 5 6 \n"
     ]
    }
   ],
   "source": [
    "a = int(input(\"enter the numbers of rows\"))\n",
    "for i in range(1, a + 1):\n",
    "    for j in range(1, i + 1):\n",
    "        print(j, end=' ')\n",
    "    print('')"
   ]
  },
  {
   "cell_type": "markdown",
   "id": "66c72e3d",
   "metadata": {},
   "source": [
    "## Python program calculates sum of digit of a given number until number reduces to single digit."
   ]
  },
  {
   "cell_type": "code",
   "execution_count": 12,
   "id": "79828ab6",
   "metadata": {},
   "outputs": [
    {
     "name": "stdout",
     "output_type": "stream",
     "text": [
      "enter number: 123456789\n",
      "45\n"
     ]
    }
   ],
   "source": [
    "n = int(input('enter number: '))\n",
    "sum = 0\n",
    "while n!=0:\n",
    "    if n!=0:\n",
    "        digit=n%10\n",
    "        sum = sum + digit\n",
    "        n=n//10\n",
    "    else:\n",
    "        pass\n",
    "print(sum)       "
   ]
  },
  {
   "cell_type": "code",
   "execution_count": null,
   "id": "03cda6a5",
   "metadata": {},
   "outputs": [],
   "source": []
  }
 ],
 "metadata": {
  "kernelspec": {
   "display_name": "Python 3 (ipykernel)",
   "language": "python",
   "name": "python3"
  },
  "language_info": {
   "codemirror_mode": {
    "name": "ipython",
    "version": 3
   },
   "file_extension": ".py",
   "mimetype": "text/x-python",
   "name": "python",
   "nbconvert_exporter": "python",
   "pygments_lexer": "ipython3",
   "version": "3.9.12"
  }
 },
 "nbformat": 4,
 "nbformat_minor": 5
}
