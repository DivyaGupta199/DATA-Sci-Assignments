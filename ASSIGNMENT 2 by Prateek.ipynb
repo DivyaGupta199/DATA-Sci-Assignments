{
 "cells": [
  {
   "cell_type": "markdown",
   "id": "401cc76d",
   "metadata": {},
   "source": [
    "## 6. Write a Python program to convert temperatures to and from celsius, fahrenheit. "
   ]
  },
  {
   "cell_type": "code",
   "execution_count": 22,
   "id": "f9b69f33",
   "metadata": {},
   "outputs": [
    {
     "name": "stdout",
     "output_type": "stream",
     "text": [
      "Enter temperature in celsius: 60\n"
     ]
    },
    {
     "data": {
      "text/plain": [
       "'Temperature in fahrenheit is 140.0'"
      ]
     },
     "execution_count": 22,
     "metadata": {},
     "output_type": "execute_result"
    }
   ],
   "source": [
    "c = float(input('Enter temperature in celsius: '))\n",
    "def fahrenheit(c):\n",
    "    f = (c * 9/5) + 32\n",
    "    return f'Temperature in fahrenheit is {f}'\n",
    "\n",
    "fahrenheit(c) "
   ]
  },
  {
   "cell_type": "code",
   "execution_count": 23,
   "id": "a19172ed",
   "metadata": {},
   "outputs": [
    {
     "name": "stdout",
     "output_type": "stream",
     "text": [
      "Enter temperature in celsius: 140\n"
     ]
    },
    {
     "data": {
      "text/plain": [
       "'Temperature in fahrenheit is: 60.0'"
      ]
     },
     "execution_count": 23,
     "metadata": {},
     "output_type": "execute_result"
    }
   ],
   "source": [
    "def celsius(f):\n",
    "    c = (f - 32)* 5/9\n",
    "    return f'Temperature in fahrenheit is: {c}'\n",
    "\n",
    "f = float(input('Enter temperature in celsius: '))\n",
    "celsius(f)"
   ]
  },
  {
   "cell_type": "markdown",
   "id": "80027541",
   "metadata": {},
   "source": [
    "## 8. Write a Python program that prints all the numbers from 0 to 6 except 3 and 6."
   ]
  },
  {
   "cell_type": "code",
   "execution_count": 21,
   "id": "7655370b",
   "metadata": {},
   "outputs": [
    {
     "name": "stdout",
     "output_type": "stream",
     "text": [
      "enter range: 6\n",
      "0 1 2 4 5 "
     ]
    }
   ],
   "source": [
    "n = int(input('enter range: '))\n",
    "for i in range(0,n+1):\n",
    "    if i == 3 or i == 6:\n",
    "        continue\n",
    "    print(i, end=' ')"
   ]
  },
  {
   "cell_type": "markdown",
   "id": "6e92674e",
   "metadata": {},
   "source": [
    "### 7. Write a Python program to guess a number between 1 to 9. Note : User is prompted to enter a guess. If the user guesses wrong then the prompt appears again until the guess is correct, on successful guess, user will get a \"Well guessed!\" message, and the program will exit.\n"
   ]
  },
  {
   "cell_type": "code",
   "execution_count": 31,
   "id": "23a86fbe",
   "metadata": {},
   "outputs": [
    {
     "name": "stdout",
     "output_type": "stream",
     "text": [
      "Guess a number between 1-10 until you get it right: 2\n",
      "Guess a number between 1-10 until you get it right: 5\n",
      "Guess a number between 1-10 until you get it right: 8\n",
      "Guess a number between 1-10 until you get it right: 3\n",
      "Guess a number between 1-10 until you get it right: 0\n",
      "Guess a number between 1-10 until you get it right: 4\n",
      "Guess a number between 1-10 until you get it right: 6\n",
      "Well Guessed!\n"
     ]
    }
   ],
   "source": [
    "import random\n",
    "random = random.randint(1, 10)\n",
    "Guess = 0\n",
    "while (random != Guess):\n",
    "    Guess = int(input('Guess a number between 1-10 until you get it right: '))\n",
    "print('Well Guessed!')"
   ]
  },
  {
   "cell_type": "markdown",
   "id": "761236ca",
   "metadata": {},
   "source": [
    "### 9. Write a Python program which iterates the integers from 1 to 50. For multiples of three print \"Fizz\" instead of the number and for the multiples of five print \"Buzz\". For numbers which are multiples of both three and five print \"FizzBuzz\". "
   ]
  },
  {
   "cell_type": "code",
   "execution_count": 89,
   "id": "3a7a2547",
   "metadata": {},
   "outputs": [
    {
     "name": "stdout",
     "output_type": "stream",
     "text": [
      "Enter range: 20\n",
      "1\n",
      "2\n",
      "Fizz\n",
      "4\n",
      "Buzz\n",
      "Fizz\n",
      "7\n",
      "8\n",
      "Fizz\n",
      "Buzz\n",
      "11\n",
      "Fizz\n",
      "13\n",
      "14\n",
      "FizzBuzz\n",
      "Fizz\n",
      "16\n",
      "17\n",
      "Fizz\n",
      "19\n",
      "Buzz\n"
     ]
    }
   ],
   "source": [
    "n = int(input('Enter range: '))\n",
    "def Magic(n):\n",
    "    for i in range(1,n+1):\n",
    "        if i%3== 0:\n",
    "            if i%5==0:\n",
    "                print('FizzBuzz')\n",
    "            print('Fizz')\n",
    "        elif i%5==0:\n",
    "            if i%3==0:\n",
    "                print('FizzBuzz')\n",
    "            print('Buzz')\n",
    "        else:\n",
    "            print(i)\n",
    "Magic(n)"
   ]
  },
  {
   "cell_type": "markdown",
   "id": "e969af3f",
   "metadata": {},
   "source": [
    "## 5. Write a Python program to find those numbers which are divisible by 7 and multiple of 5, between 1500 and 2700 (both included)."
   ]
  },
  {
   "cell_type": "code",
   "execution_count": 41,
   "id": "5bfb830d",
   "metadata": {},
   "outputs": [
    {
     "name": "stdout",
     "output_type": "stream",
     "text": [
      "1505/1540/1575/1610/1645/1680/1715/1750/1785/1820/1855/1890/1925/1960/1995/2030/2065/2100/2135/2170/2205/2240/2275/2310/2345/2380/2415/2450/2485/2520/2555/2590/2625/2660/2695/"
     ]
    }
   ],
   "source": [
    "for i in range(1500, 2701):\n",
    "    if i%7==0 and i%5==0:\n",
    "        print(i, end='/')\n",
    "    else:\n",
    "        continue\n",
    "    "
   ]
  },
  {
   "cell_type": "markdown",
   "id": "9b0d8879",
   "metadata": {},
   "source": [
    "## 4. Write a Python program to split a given multiline string into a list of lines. "
   ]
  },
  {
   "cell_type": "code",
   "execution_count": 54,
   "id": "d2b7c586",
   "metadata": {},
   "outputs": [
    {
     "name": "stdout",
     "output_type": "stream",
     "text": [
      "Enter the number of lines: 5\n",
      "Enter your 1 string: Python is\n",
      "Enter your 2 string: a general \n",
      "Enter your 3 string: purpose and\n",
      "Enter your 4 string: high level\n",
      "Enter your 5 string: language\n",
      "['Python is', 'a general ', 'purpose and', 'high level', 'language']\n"
     ]
    }
   ],
   "source": [
    "n = int(input(\"Enter the number of lines: \"))\n",
    "ls = []\n",
    "for i in range(1,n+1):\n",
    "    string = input(f'Enter your {i} string: ')\n",
    "    ls.append(string)\n",
    "print(ls)\n",
    "    \n"
   ]
  },
  {
   "cell_type": "code",
   "execution_count": null,
   "id": "05d2c082",
   "metadata": {},
   "outputs": [],
   "source": [
    "string = input('Enter your string: ')\n"
   ]
  },
  {
   "cell_type": "markdown",
   "id": "c991c79a",
   "metadata": {},
   "source": [
    "## 2. Write a Python program find the common values that appear in two given strings. "
   ]
  },
  {
   "cell_type": "code",
   "execution_count": 75,
   "id": "c5442966",
   "metadata": {},
   "outputs": [
    {
     "data": {
      "text/plain": [
       "'python'"
      ]
     },
     "execution_count": 75,
     "metadata": {},
     "output_type": "execute_result"
    }
   ],
   "source": [
    "def Common_str(n1, n2):\n",
    "    result = \"\"\n",
    "    for char in n1:\n",
    "        if char in n2:\n",
    "            result += char\n",
    "    return result\n",
    "        \n",
    "n1 = 'python'\n",
    "n2 = 'python3.7'\n",
    "Common_str(n1, n2)\n",
    "\n"
   ]
  },
  {
   "cell_type": "markdown",
   "id": "4887d2d9",
   "metadata": {},
   "source": [
    "## 3. Write a Python program to remove unwanted characters from a given string.\n"
   ]
  },
  {
   "cell_type": "code",
   "execution_count": 88,
   "id": "66d6ca10",
   "metadata": {},
   "outputs": [
    {
     "name": "stdout",
     "output_type": "stream",
     "text": [
      "PythonExercises"
     ]
    }
   ],
   "source": [
    "n = 'Pyth*^on Exercis^es'\n",
    "for i in n:\n",
    "    if i.isalpha():\n",
    "        print(i, end='')\n",
    "        "
   ]
  },
  {
   "cell_type": "markdown",
   "id": "0b7fc9c6",
   "metadata": {},
   "source": [
    "## 1. Write a Python program to remove all consecutive duplicates of a given string.\n"
   ]
  },
  {
   "cell_type": "code",
   "execution_count": 95,
   "id": "9f0dcb87",
   "metadata": {},
   "outputs": [
    {
     "name": "stdout",
     "output_type": "stream",
     "text": [
      "ABCDEF\n"
     ]
    }
   ],
   "source": [
    "string = \"AABBCCDDEEFF\"\n",
    "x = ''\n",
    "for char in string:\n",
    "    if char not in x:\n",
    "        x = x + char\n",
    "print(x)\n"
   ]
  },
  {
   "cell_type": "markdown",
   "id": "98896547",
   "metadata": {},
   "source": [
    "## 10. Write a Python program that accepts a string and calculate the number of digits and letters. "
   ]
  },
  {
   "cell_type": "code",
   "execution_count": 113,
   "id": "f4dd8b2a",
   "metadata": {},
   "outputs": [
    {
     "data": {
      "text/plain": [
       "'letters: 6 and Digits: 2'"
      ]
     },
     "execution_count": 113,
     "metadata": {},
     "output_type": "execute_result"
    }
   ],
   "source": [
    "n = 'Python 3.2'\n",
    "# n = input(\"enter a alphanumeric character: \")\n",
    "\n",
    "def cal_alphanum(n):\n",
    "    letters = 0\n",
    "    Digit = 0\n",
    "    for i in n:\n",
    "        if i.isalpha():\n",
    "            letters+=1\n",
    "        elif i.isnumeric():\n",
    "            Digit += 1\n",
    "    result = f'letters: {letters} and Digits: {Digit}'\n",
    "    return result\n",
    "\n",
    "cal_alphanum(n)"
   ]
  },
  {
   "cell_type": "markdown",
   "id": "bc4d77c4",
   "metadata": {},
   "source": [
    "## All Questions Solved!"
   ]
  },
  {
   "cell_type": "code",
   "execution_count": null,
   "id": "2c13b12c",
   "metadata": {},
   "outputs": [],
   "source": []
  }
 ],
 "metadata": {
  "kernelspec": {
   "display_name": "Python 3 (ipykernel)",
   "language": "python",
   "name": "python3"
  },
  "language_info": {
   "codemirror_mode": {
    "name": "ipython",
    "version": 3
   },
   "file_extension": ".py",
   "mimetype": "text/x-python",
   "name": "python",
   "nbconvert_exporter": "python",
   "pygments_lexer": "ipython3",
   "version": "3.9.12"
  }
 },
 "nbformat": 4,
 "nbformat_minor": 5
}
